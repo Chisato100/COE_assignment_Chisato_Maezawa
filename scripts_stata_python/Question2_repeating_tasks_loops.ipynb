{
 "cells": [
  {
   "cell_type": "code",
   "execution_count": 37,
   "id": "49cedb84-db9f-404c-b869-5243c85e319b",
   "metadata": {},
   "outputs": [],
   "source": [
    "import os\n",
    "import pandas as pd\n",
    "import shutil\n",
    "import matplotlib.pyplot as plt"
   ]
  },
  {
   "cell_type": "code",
   "execution_count": 29,
   "id": "e3458ae5-f17f-4968-979e-15fbee0f4dc3",
   "metadata": {},
   "outputs": [
    {
     "name": "stdout",
     "output_type": "stream",
     "text": [
      "  municipality  year  treat  newcomers     rents  popu  year_2013  year_2016  \\\n",
      "0       adachi  2008      0    28533.0  281500.0   484        NaN        NaN   \n",
      "1       adachi  2009      0    31389.0  275200.0   528        NaN        NaN   \n",
      "2       adachi  2010      0    27831.0  263500.0   459        NaN        NaN   \n",
      "3       adachi  2011      0    27978.0  262100.0   447        NaN        NaN   \n",
      "4       adachi  2012      0    27850.0  262800.0   423        NaN        NaN   \n",
      "\n",
      "   year_2018  \n",
      "0        NaN  \n",
      "1        NaN  \n",
      "2        NaN  \n",
      "3        NaN  \n",
      "4        NaN  \n"
     ]
    }
   ],
   "source": [
    "main_folder = 'coe_final_assignment'\n",
    "data_folder_path = os.path.join(\"..\", 'data')\n",
    "output_folder = os.path.join(\"..\", 'outputs')\n",
    "graphs_folder = os.path.join(\"..\", 'graphs')\n",
    "\n",
    "data_path = os.path.join(\"..\", 'data', 'Data_popularity_google.csv')\n",
    "df = pd.read_csv(data_path)\n",
    "print(df.head())"
   ]
  },
  {
   "cell_type": "code",
   "execution_count": 17,
   "id": "32e9b1fa-4b67-4021-b27f-a6105a1dc985",
   "metadata": {},
   "outputs": [
    {
     "name": "stdout",
     "output_type": "stream",
     "text": [
      "\n",
      "Summary statistics for newcomers:\n",
      "count       440.000000\n",
      "mean      26574.400000\n",
      "std       30415.564927\n",
      "min        3409.000000\n",
      "25%       11185.250000\n",
      "50%       20807.000000\n",
      "75%       28962.000000\n",
      "max      203927.000000\n",
      "Name: newcomers, dtype: float64\n",
      "\n",
      "Summary statistics for rents:\n",
      "count    2.970000e+02\n",
      "mean     4.773263e+05\n",
      "std      3.925075e+05\n",
      "min      1.091000e+05\n",
      "25%      2.298000e+05\n",
      "50%      3.694000e+05\n",
      "75%      5.606000e+05\n",
      "max      2.618600e+06\n",
      "Name: rents, dtype: float64\n",
      "\n",
      "Summary statistics for popu:\n",
      "count     560.000000\n",
      "mean      303.467857\n",
      "std       303.961440\n",
      "min         0.000000\n",
      "25%        40.750000\n",
      "50%       174.000000\n",
      "75%       552.500000\n",
      "max      1134.000000\n",
      "Name: popu, dtype: float64\n"
     ]
    }
   ],
   "source": [
    "# Repeat creating a summary statistical tables for different columns\n",
    "columns_to_summarize = ['newcomers', 'rents', 'popu']\n",
    "summary_stats = {}\n",
    "\n",
    "for col in columns_to_summarize:\n",
    "    summary_stats[col] = df[col].describe()\n",
    "for col, stats in summary_stats.items():\n",
    "    print(f\"\\nSummary statistics for {col}:\")\n",
    "    print(stats)"
   ]
  },
  {
   "cell_type": "code",
   "execution_count": 19,
   "id": "c84ed6b2-dbc9-41e2-9fb7-75d1329e13ee",
   "metadata": {},
   "outputs": [],
   "source": [
    "# Convert summary statistics dictionary to a DataFrame\n",
    "summary_df = pd.DataFrame(summary_stats)\n",
    "summary_df.to_csv(os.path.join(output_folder, \"summary_statistics.csv\"))"
   ]
  },
  {
   "cell_type": "code",
   "execution_count": 27,
   "id": "14681126-0439-41db-87bf-10fe95d1b055",
   "metadata": {},
   "outputs": [
    {
     "name": "stdout",
     "output_type": "stream",
     "text": [
      "  municipality  year  treat  newcomers     rents  popu  year_2013  year_2016  \\\n",
      "0       adachi  2008      0    28533.0  281500.0   484        0.0        0.0   \n",
      "1       adachi  2009      0    31389.0  275200.0   528        0.0        0.0   \n",
      "2       adachi  2010      0    27831.0  263500.0   459        0.0        0.0   \n",
      "3       adachi  2011      0    27978.0  262100.0   447        0.0        0.0   \n",
      "4       adachi  2012      0    27850.0  262800.0   423        0.0        0.0   \n",
      "\n",
      "   year_2018  \n",
      "0        NaN  \n",
      "1        NaN  \n",
      "2        NaN  \n",
      "3        NaN  \n",
      "4        NaN  \n"
     ]
    },
    {
     "name": "stderr",
     "output_type": "stream",
     "text": [
      "/var/folders/97/4qvq0h9x70jcn61n8hff6gtc0000gn/T/ipykernel_10593/486563961.py:4: FutureWarning: A value is trying to be set on a copy of a DataFrame or Series through chained assignment using an inplace method.\n",
      "The behavior will change in pandas 3.0. This inplace method will never work because the intermediate object on which we are setting values always behaves as a copy.\n",
      "\n",
      "For example, when doing 'df[col].method(value, inplace=True)', try using 'df.method({col: value}, inplace=True)' or df[col] = df[col].method(value) instead, to perform the operation inplace on the original object.\n",
      "\n",
      "\n",
      "  df[col].fillna(0, inplace=True)\n"
     ]
    }
   ],
   "source": [
    "# Repeating task2\n",
    "columns_to_clean = ['newcomers', 'rents', 'popu', 'year_2013', 'year_2016']\n",
    "for col in columns_to_clean:\n",
    "    df[col] = df[col].fillna(0).astype(int)\n",
    "print(df.head())"
   ]
  },
  {
   "cell_type": "code",
   "execution_count": 39,
   "id": "109b77f3-44a6-403f-833a-b9bf229eaffa",
   "metadata": {},
   "outputs": [
    {
     "name": "stdout",
     "output_type": "stream",
     "text": [
      "Notebook moved to ../scripts_stata_python/Question2_repeating_tasks_loops.ipynb\n"
     ]
    }
   ],
   "source": [
    "# Perform operation in files in different folders - save this notebook into script folder\n",
    "main_folder = 'coe_final_assignment'\n",
    "target_folder = os.path.join(\"..\", 'scripts_stata_python')\n",
    "current_notebook_path = os.path.abspath(\"Question2_repeating_tasks_loops.ipynb\")\n",
    "target_notebook_path = os.path.join(target_folder, os.path.basename(current_notebook_path))\n",
    "shutil.move(current_notebook_path, target_notebook_path)\n",
    "print(f\"Notebook moved to {target_notebook_path}\")\n"
   ]
  }
 ],
 "metadata": {
  "kernelspec": {
   "display_name": "Python 3 (ipykernel)",
   "language": "python",
   "name": "python3"
  },
  "language_info": {
   "codemirror_mode": {
    "name": "ipython",
    "version": 3
   },
   "file_extension": ".py",
   "mimetype": "text/x-python",
   "name": "python",
   "nbconvert_exporter": "python",
   "pygments_lexer": "ipython3",
   "version": "3.12.4"
  }
 },
 "nbformat": 4,
 "nbformat_minor": 5
}
