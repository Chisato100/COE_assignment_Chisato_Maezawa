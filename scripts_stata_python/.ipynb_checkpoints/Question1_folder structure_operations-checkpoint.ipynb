{
 "cells": [
  {
   "cell_type": "code",
   "execution_count": 75,
   "id": "6fab6c78-764b-418f-817f-23f06e2ac048",
   "metadata": {},
   "outputs": [],
   "source": [
    "import os\n",
    "import shutil\n",
    "import pandas as pd\n",
    "import matplotlib.pyplot as plt\n"
   ]
  },
  {
   "cell_type": "code",
   "execution_count": 3,
   "id": "9a06df8d-5ccf-4b7e-b24f-9c323778d2e4",
   "metadata": {},
   "outputs": [],
   "source": [
    "current_directory = os.getcwd()"
   ]
  },
  {
   "cell_type": "code",
   "execution_count": 9,
   "id": "95c22ff5-041c-4da4-9469-f97d8c6b2c92",
   "metadata": {},
   "outputs": [],
   "source": [
    "files = os.listdir(current_directory)"
   ]
  },
  {
   "cell_type": "code",
   "execution_count": 13,
   "id": "8a7f2866-5819-4b3d-b71b-ed416c4d0efb",
   "metadata": {},
   "outputs": [
    {
     "name": "stdout",
     "output_type": "stream",
     "text": [
      "['1_9', 'crime_articles_data3.csv', 'Job-Cork', '~$ademic writting PB.docx', '.Rhistory', 'toi_kerala_news_batch_251_300.csv', 'Screenshot 2024-10-24 at 16.57.00.png', 'VA', 'toi_kerala_news_batch_451_500.csv', 'crime_articles_data2.csv', 'memo.9.6.docx', 'Screenshot 2024-10-22 at 15.01.12.png', 'Screenshot 2024-10-24 at 18.06.51.png', 'Screenshot 2024-10-22 at 11.38.13.png', 'Screenshot 2024-10-29 at 14.51.02.png', 'toi_kerala', 'Uncle Edo', 'tio_kerala_news_filtered.csv', 'Test for Annd.xlsx', 'test_toi_selenium2.py', 'Screenshot 2024-10-14 at 18.26.07.png', 'hindu.py', 'toi_kerala_news_batch_201_250.csv', 'Screenshot 2024-10-19 at 14.45.45.png', '.DS_Store', 'Screenshot 2024-09-17 at 19.52.40.png', 'Adilet Kanymet_passport (1).pdf', 'APP', 'crime_articles_data4.csv', 'toi_kerala_news_batch_401_450.csv', 'test_toi_selenium3.py', 'CEU 4th semester', 'Screenshot 2024-09-16 at 14.03.42.png', 'toi_kerala_news_batch_301_350.csv', 'toi_kerala_news_batch_351_400.csv', 'Screenshot 2024-10-29 at 10.46.11 1.png', 'Screenshot 2024-10-29 at 15.17.27.png', 'CEU 2nd year schedule plan.xlsx', '1st semester', 'Screenshot 2024-10-25 at 09.21.51.png', 'Screenshot 2024-10-18 at 10.16.12.png', '.localized', 'hindu', 'Screenshot 2024-10-21 at 23.03.13.png', 'Question1.ipynb', '2_9', 'CS Ventures', 'Screenshot 2024-10-21 at 18.27.19.png', 'test_toi_selenium.py', 'times', 'Screenshot 2024-10-21 at 21.27.44.png', '~$licy_Brief_Maezawa.docx', 'va_bing3.py', 'Screenshot 2024-10-29 at 18.39.20.png', 'Screenshot 2024-10-21 at 18.25.23.png', 'hindu_kerala4.py', 'Screenshot 2024-10-21 at 18.32.13.png', 'Test1', 'Screenshot 2024-10-29 at 10.17.58.png', 'Screenshot 2024-09-16 at 10.34.35.png', 'toi_kerala3.py', 'Screenshot 2024-10-29 at 10.46.11.png', 'va_bing2.py', 'Screenshot 2024-10-29 at 18.37.34.png', 'Screenshot 2024-10-25 at 16.17.35.png', 'hindu_kerala5.py', 'Screenshot 2024-10-22 at 16.35.51.png', 'toi_kerala2.py', 'Screenshot 2024-10-18 at 10.09.26.png', 'Screenshot 2024-10-21 at 18.20.16.png', 'web_scraping_script.py', 'toi_kerala_news_batch_51_100.csv', 'crime_articles_data.csv', 'Interview prep', 'va_bing.py', '~$ademic writing script.docx', 'filtered_articles.csv', 'test_toi_selenium', 'extracted_titles.csv', 'toi_kerala_news_batch_1_50.csv', 'Approval to Work as RA from Prof. Dorsch.pdf', 'Screenshot 2024-10-17 at 13.45.16.png', 'toi_whole_taminadu_keyword.py', 'Screenshot 2024-10-19 at 14.45.28.png', 'Screenshot 2024-10-21 at 17.55.29.png', 'Screenshot 2024-10-15 at 12.59.45.png', '3_9', 'da-coding-python', 'Screenshot 2024-10-14 at 18.18.25.png', 'Screenshot 2024-10-29 at 18.39.15.png', 'hindu_kerala2.py', 'Screenshot 2024-10-18 at 11.00.45.png', 'toi_kerala_news_batch_151_200.csv', 'ads_data.csv', 'Kyrgyz', 'toi_kerala_news_batch_101_150.csv', 'Screenshot 2024-10-29 at 13.21.48.png', 'Screenshot 2024-10-21 at 17.59.06.png', '.RData', 'Screenshot 2024-10-23 at 16.18.19.png', 'hindu_kerala3.py', 'Chisato-conversion', 'Austrian RP renew', 'Screenshot 2024-10-19 at 14.40.34.png', 'Azul Java', 'Raznameh', '~$Test for Annd.xlsx', 'RP renewal 2024', '.ipynb_checkpoints', 'Screenshot 2024-10-19 at 14.40.52.png', '3rd semester', 'CV', 'Screenshot 2024-10-19 at 14.41.13.png', 'oja_data_access_request_3members.pdf', 'Experience in IE.docx', 'Screenshot 2024-10-14 at 18.32.56.png', 'Screenshot 2024-09-14 at 17.59.37.png', 'extracted_articles.csv', 'Screenshot 2024-10-25 at 09.53.27.png', '~$child policy.pptx', '2nd semester', '~$Academic writing presentation.pptx', 'Screenshot 2024-10-24 at 18.11.55.png', 'Screenshot 2024-10-29 at 18.31.06.png', 'test_toi_selenium4.py', 'Screenshot 2024-10-29 at 11.03.08.png', 'Screenshot 2024-10-21 at 18.34.34.png', 'test.ipynb', 'Screenshot 2024-10-21 at 18.17.00.png', 'RA with Anand', 'Screenshot 2024-10-18 at 10.16.25.png', 'Courses 2024:2025.docx', 'Screenshot 2024-10-29 at 09.50.35.png', '~$mination Letter-Anand Murugesan.docx', '.Rproj.user', '~$uantitative- Chisato Maezawa)HW1_20230926_student.docx', 'rp2.pdf', 'hindu_titles.csv', 'Screenshot 2024-10-29 at 15.00.20.png', 'Screenshot 2024-10-27 at 11.42.32.png', 'toi_kerala.py', 'hindu3.py', 'hindu_kerala.py', 'rp1.pdf']\n"
     ]
    }
   ],
   "source": [
    "print(files)\n",
    "# List all files"
   ]
  },
  {
   "cell_type": "code",
   "execution_count": 47,
   "id": "d7ab3ca8-34e6-47ca-8c52-cbd1e640bc41",
   "metadata": {},
   "outputs": [],
   "source": [
    "# Set up folder structure (main and sub folders)\n",
    "main_folder = 'coe_final_assignment'\n",
    "sub_folders = ['data', 'scripts_stata_python', 'outputs', 'graphs']"
   ]
  },
  {
   "cell_type": "code",
   "execution_count": 33,
   "id": "97545d81-cfd3-4dcb-afb4-1c5d44141ad7",
   "metadata": {},
   "outputs": [
    {
     "name": "stdout",
     "output_type": "stream",
     "text": [
      "Subfolder 'data' created inside 'coe_final_assignment'\n",
      "Subfolder 'scripts_stata_python' created inside 'coe_final_assignment'\n",
      "Subfolder 'outputs' created inside 'coe_final_assignment'\n",
      "Subfolder 'graphs' created inside 'coe_final_assignment'\n",
      "All folders created successfully!\n"
     ]
    }
   ],
   "source": [
    "# Varify folder structures\n",
    "if not os.path.exists(main_folder):\n",
    "    os.makedirs(main_folder)\n",
    "    print(f\"Main folder '{main_folder}' created!\")\n",
    "\n",
    "for sub_folder in sub_folders:\n",
    "    path = os.path.join(main_folder, sub_folder)\n",
    "    if not os.path.exists(path):\n",
    "        os.makedirs(path)\n",
    "        print(f\"Subfolder '{sub_folder}' created inside '{main_folder}'\")\n",
    "\n",
    "print(\"All folders created successfully!\")"
   ]
  },
  {
   "cell_type": "code",
   "execution_count": 49,
   "id": "052f7690-207d-41cf-8e00-17402404a496",
   "metadata": {},
   "outputs": [
    {
     "name": "stdout",
     "output_type": "stream",
     "text": [
      "  municipality  year  treat  newcomers     rents  popu  year_2013  year_2016  \\\n",
      "0       adachi  2008      0    28533.0  281500.0   484        NaN        NaN   \n",
      "1       adachi  2009      0    31389.0  275200.0   528        NaN        NaN   \n",
      "2       adachi  2010      0    27831.0  263500.0   459        NaN        NaN   \n",
      "3       adachi  2011      0    27978.0  262100.0   447        NaN        NaN   \n",
      "4       adachi  2012      0    27850.0  262800.0   423        NaN        NaN   \n",
      "\n",
      "   year_2018  \n",
      "0        NaN  \n",
      "1        NaN  \n",
      "2        NaN  \n",
      "3        NaN  \n",
      "4        NaN  \n"
     ]
    }
   ],
   "source": [
    "# File operations\n",
    "data_path = os.path.join(main_folder, 'data', 'Data_popularity_google.csv')\n",
    "df = pd.read_csv(data_path)\n",
    "print(df.head())"
   ]
  },
  {
   "cell_type": "code",
   "execution_count": 79,
   "id": "2aabddb2-a3e7-48ba-a96d-5cccaaba3023",
   "metadata": {},
   "outputs": [
    {
     "name": "stdout",
     "output_type": "stream",
     "text": [
      "   municipality  year  treat  newcomers     rents  popu  year_2013  year_2016  \\\n",
      "8        adachi  2016      0    28195.0  264300.0   364        NaN        NaN   \n",
      "9        adachi  2017      0    30623.0       NaN   368        NaN        NaN   \n",
      "10       adachi  2018      0    31040.0  283600.0   350        NaN        NaN   \n",
      "11       adachi  2019      0        NaN       NaN   496        NaN        NaN   \n",
      "12       adachi  2020      0        NaN       NaN   688        NaN        NaN   \n",
      "\n",
      "    year_2018  \n",
      "8         NaN  \n",
      "9         NaN  \n",
      "10        NaN  \n",
      "11        NaN  \n",
      "12        NaN  \n",
      "   municipality  year  treat  newcomers     rents  popu  year_2013  year_2016  \\\n",
      "8        adachi  2016      0    28195.0  264300.0   364        NaN        NaN   \n",
      "9        adachi  2017      0    30623.0       NaN   368        NaN        NaN   \n",
      "10       adachi  2018      0    31040.0  283600.0   350        NaN        NaN   \n",
      "11       adachi  2019      0        NaN       NaN   496        NaN        NaN   \n",
      "12       adachi  2020      0        NaN       NaN   688        NaN        NaN   \n",
      "\n",
      "    year_2018  \n",
      "8         NaN  \n",
      "9         NaN  \n",
      "10        NaN  \n",
      "11        NaN  \n",
      "12        NaN  \n",
      "           newcomers         rents\n",
      "count     120.000000  7.400000e+01\n",
      "mean    26617.741667  5.194000e+05\n",
      "std     29373.450825  4.653268e+05\n",
      "min      4307.000000  1.091000e+05\n",
      "25%     10861.000000  2.321500e+05\n",
      "50%     20926.500000  3.926500e+05\n",
      "75%     28768.750000  5.789750e+05\n",
      "max    183286.000000  2.618600e+06\n"
     ]
    },
    {
     "data": {
      "image/png": "[encoded data removed]",
      "text/plain": [
       "<Figure size 640x480 with 1 Axes>"
      ]
     },
     "metadata": {},
     "output_type": "display_data"
    }
   ],
   "source": [
    "# Process the dataset - save dataset to data file\n",
    "df_filtered = df[df['year'] > 2015]\n",
    "print(df_filtered.head())\n",
    "data_folder_path = os.path.join(main_folder, 'data', 'data_after_2015.csv')\n",
    "df_filtered.to_csv(data_folder_path, index=False)\n",
    "print(df_filtered.head())\n",
    "\n",
    "# Process the dataset - save table to output folder\n",
    "summary_stats = df_filtered[['newcomers', 'rents']].describe()\n",
    "output_folder_path = os.path.join(main_folder, 'outputs', 'summary_stats_after_2015.csv')\n",
    "summary_stats.to_csv(output_folder_path)\n",
    "print (summary_stats)\n",
    "\n",
    "# Process the dataset - save graph to graph folder\n",
    "plt.hist(df_filtered['newcomers'], bins=10)\n",
    "plt.title('Histogram of Newcomers')\n",
    "plt.xlabel('Newcomers')\n",
    "plt.ylabel('Frequency')\n",
    "graph_folder_path = os.path.join(main_folder, 'graphs', 'newcomers_histogram.png')\n",
    "plt.savefig(graph_folder_path)\n",
    "plt.show()"
   ]
  },
  {
   "cell_type": "code",
   "execution_count": 81,
   "id": "a6429a02-92ff-4cc2-a55b-cd8136909295",
   "metadata": {},
   "outputs": [
    {
     "name": "stdout",
     "output_type": "stream",
     "text": [
      "Notebook moved to coe_final_assignment/scripts_stata_python/Question1_folder structure_operations.ipynb\n"
     ]
    }
   ],
   "source": [
    "# Perform operation in files in different folders - save this notebook into script folder\n",
    "main_folder = 'coe_final_assignment'\n",
    "target_folder = os.path.join(main_folder, 'scripts_stata_python')\n",
    "current_notebook_path = os.path.abspath(\"Question1_folder structure_operations.ipynb\")\n",
    "target_notebook_path = os.path.join(target_folder, os.path.basename(current_notebook_path))\n",
    "shutil.move(current_notebook_path, target_notebook_path)\n",
    "print(f\"Notebook moved to {target_notebook_path}\")\n",
    "\n",
    "# Save as a simple py file as well\n"
   ]
  }
 ],
 "metadata": {
  "kernelspec": {
   "display_name": "Python 3 (ipykernel)",
   "language": "python",
   "name": "python3"
  },
  "language_info": {
   "codemirror_mode": {
    "name": "ipython",
    "version": 3
   },
   "file_extension": ".py",
   "mimetype": "text/x-python",
   "name": "python",
   "nbconvert_exporter": "python",
   "pygments_lexer": "ipython3",
   "version": "3.12.4"
  }
 },
 "nbformat": 4,
 "nbformat_minor": 5
}
