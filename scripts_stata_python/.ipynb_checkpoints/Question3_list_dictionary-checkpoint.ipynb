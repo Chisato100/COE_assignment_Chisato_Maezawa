{
 "cells": [
  {
   "cell_type": "code",
   "execution_count": 5,
   "id": "1ddc4519-c3af-485c-ba22-2326fb3e36cb",
   "metadata": {},
   "outputs": [],
   "source": [
    "import os\n",
    "import pandas as pd\n"
   ]
  },
  {
   "cell_type": "code",
   "execution_count": 7,
   "id": "a1b17a41-9b61-4171-b85d-5abda498b364",
   "metadata": {},
   "outputs": [
    {
     "name": "stdout",
     "output_type": "stream",
     "text": [
      "  municipality  year  treat  newcomers     rents  popu  year_2013  year_2016  \\\n",
      "0       adachi  2008      0    28533.0  281500.0   484        NaN        NaN   \n",
      "1       adachi  2009      0    31389.0  275200.0   528        NaN        NaN   \n",
      "2       adachi  2010      0    27831.0  263500.0   459        NaN        NaN   \n",
      "3       adachi  2011      0    27978.0  262100.0   447        NaN        NaN   \n",
      "4       adachi  2012      0    27850.0  262800.0   423        NaN        NaN   \n",
      "\n",
      "   year_2018  \n",
      "0        NaN  \n",
      "1        NaN  \n",
      "2        NaN  \n",
      "3        NaN  \n",
      "4        NaN  \n"
     ]
    }
   ],
   "source": [
    "data_path = os.path.join(\"..\", 'data', 'Data_popularity_google.csv')\n",
    "df = pd.read_csv(data_path)\n",
    "print(df.head())"
   ]
  },
  {
   "cell_type": "code",
   "execution_count": 9,
   "id": "d4e83f16-9d74-4a8e-a251-b574417ddbe8",
   "metadata": {},
   "outputs": [
    {
     "name": "stdout",
     "output_type": "stream",
     "text": [
      "Columns with missing values: ['newcomers', 'rents', 'year_2013', 'year_2016', 'year_2018']\n"
     ]
    }
   ],
   "source": [
    "# List 1 - with dataset\n",
    "list_with_dataset = [col for col in df.columns if df[col].isnull().any()]\n",
    "print(\"Columns with missing values:\", list_with_dataset)"
   ]
  },
  {
   "cell_type": "code",
   "execution_count": 11,
   "id": "f04dc98b-f3d5-49d6-b6cf-1b71cff2f798",
   "metadata": {},
   "outputs": [
    {
     "name": "stdout",
     "output_type": "stream",
     "text": [
      "Newcomers stats (mean, median): [26574.4, 20807.0]\n",
      "Rents stats (mean, median): [477326.2626262626, 369400.0]\n",
      "<class 'list'>\n",
      "<class 'list'>\n"
     ]
    }
   ],
   "source": [
    "# Create a list of basic statistics for \"newcomers\" and \"rents\" variables from a dataset\n",
    "newcomers_stats = [df['newcomers'].mean(), df['newcomers'].median()]\n",
    "rents_stats = [df['rents'].mean(), df['rents'].median()]\n",
    "print(\"Newcomers stats (mean, median):\", newcomers_stats)\n",
    "print(\"Rents stats (mean, median):\", rents_stats)\n",
    "print(type(newcomers_stats)) #Show that this is a list\n",
    "print(type(rents_stats)) #Show that this is a list"
   ]
  },
  {
   "cell_type": "code",
   "execution_count": 13,
   "id": "2478a3fd-1dc2-4d8e-98d6-7335b81153d9",
   "metadata": {},
   "outputs": [
    {
     "name": "stdout",
     "output_type": "stream",
     "text": [
      "First three years: [2008, 2009, 2010]\n",
      "<class 'list'>\n",
      "Even years: [2016, 2018, 2020, 2008, 2010, 2012, 2014]\n",
      "<class 'list'>\n"
     ]
    }
   ],
   "source": [
    "# Create a list containing first three years from the dataset\n",
    "first_three_years = df['year'][:3].tolist()\n",
    "print(\"First three years:\", first_three_years)\n",
    "print(type(first_three_years)) #Show that this is a list\n",
    "\n",
    "# Create a list containing even years in the year column from the dataset\n",
    "even_years = list(set([year for year in df['year'] if year % 2 == 0]))\n",
    "print(\"Even years:\", even_years)\n",
    "print(type(even_years)) #Show that this is a list"
   ]
  },
  {
   "cell_type": "code",
   "execution_count": 15,
   "id": "921997ca-615f-44ce-9644-2be0b7a7d597",
   "metadata": {},
   "outputs": [
    {
     "name": "stdout",
     "output_type": "stream",
     "text": [
      "Filtered years (no duplicates, stepping by 2): [2008, 2010, 2012, 2014, 2016, 2018, 2020]\n",
      "<class 'list'>\n"
     ]
    }
   ],
   "source": [
    "# Another way to show even years using list\n",
    "start = 2008\n",
    "stop = 2022\n",
    "step = 2\n",
    "unique_years = sorted(set(df['year']))\n",
    "year_range = range(start, stop, step)\n",
    "filtered_years = [year for year in unique_years if year in year_range]\n",
    "print(\"Filtered years (no duplicates, stepping by 2):\", filtered_years)\n",
    "print(type(filtered_years)) #Show that this is a list"
   ]
  },
  {
   "cell_type": "code",
   "execution_count": 17,
   "id": "99b6d123-e959-4276-9c68-efa193c03653",
   "metadata": {},
   "outputs": [
    {
     "name": "stdout",
     "output_type": "stream",
     "text": [
      "Filtered years (2014 removed): [2008, 2010, 2012, 2016, 2018, 2020]\n"
     ]
    }
   ],
   "source": [
    "# Remove elements from a list\n",
    "filtered_years.remove(2014) # remove a particular item\n",
    "print(\"Filtered years (2014 removed):\", filtered_years)"
   ]
  },
  {
   "cell_type": "code",
   "execution_count": 19,
   "id": "38cf23ee-9145-4881-9d4f-dab15fcd2e3c",
   "metadata": {},
   "outputs": [
    {
     "name": "stdout",
     "output_type": "stream",
     "text": [
      "200820102012201620182020\n",
      "2008 2010 2012 2016 2018 2020\n",
      "2008, 2010, 2012, 2016, 2018, 2020\n"
     ]
    }
   ],
   "source": [
    "# Use join method \n",
    "print(''.join(str(year) for year in filtered_years))      \n",
    "print(' '.join(str(year) for year in filtered_years))    \n",
    "print(', '.join(str(year) for year in filtered_years))"
   ]
  },
  {
   "cell_type": "code",
   "execution_count": 21,
   "id": "e934eaa9-3b07-419b-b819-602247a8a018",
   "metadata": {},
   "outputs": [
    {
     "name": "stdout",
     "output_type": "stream",
     "text": [
      "Year statistics: {'min_year': 2008, 'max_year': 2020, 'count': 6}\n",
      "<class 'dict'>\n"
     ]
    }
   ],
   "source": [
    "# Dictionary\n",
    "year_stats = {\n",
    "    \"min_year\": min(filtered_years),\n",
    "    \"max_year\": max(filtered_years),\n",
    "    \"count\": len(filtered_years)\n",
    "}\n",
    "print(\"Year statistics:\", year_stats)\n",
    "print(type(year_stats)) #Show that this is a dictionary"
   ]
  },
  {
   "cell_type": "code",
   "execution_count": 23,
   "id": "b57192cc-029f-4baf-b4a3-f9fcbc21a9c5",
   "metadata": {},
   "outputs": [
    {
     "name": "stdout",
     "output_type": "stream",
     "text": [
      "Data for adachi:\n",
      "  Year 2008: {'Treatment': 0, 'Newcomers to the municipality': 28533.0, 'Rent price': 281500.0, 'Populality': 484}\n",
      "  Year 2009: {'Treatment': 0, 'Newcomers to the municipality': 31389.0, 'Rent price': 275200.0, 'Populality': 528}\n",
      "  Year 2010: {'Treatment': 0, 'Newcomers to the municipality': 27831.0, 'Rent price': 263500.0, 'Populality': 459}\n",
      "  Year 2011: {'Treatment': 0, 'Newcomers to the municipality': 27978.0, 'Rent price': 262100.0, 'Populality': 447}\n",
      "  Year 2012: {'Treatment': 0, 'Newcomers to the municipality': 27850.0, 'Rent price': 262800.0, 'Populality': 423}\n",
      "  Year 2013: {'Treatment': 0, 'Newcomers to the municipality': 27124.0, 'Rent price': 254800.0, 'Populality': 436}\n",
      "  Year 2014: {'Treatment': 0, 'Newcomers to the municipality': 28002.0, 'Rent price': nan, 'Populality': 500}\n",
      "  Year 2015: {'Treatment': 0, 'Newcomers to the municipality': 29980.0, 'Rent price': nan, 'Populality': 475}\n",
      "  Year 2016: {'Treatment': 0, 'Newcomers to the municipality': 28195.0, 'Rent price': 264300.0, 'Populality': 364}\n",
      "  Year 2017: {'Treatment': 0, 'Newcomers to the municipality': 30623.0, 'Rent price': nan, 'Populality': 368}\n",
      "  Year 2018: {'Treatment': 0, 'Newcomers to the municipality': 31040.0, 'Rent price': 283600.0, 'Populality': 350}\n",
      "  Year 2019: {'Treatment': 0, 'Newcomers to the municipality': nan, 'Rent price': nan, 'Populality': 496}\n",
      "  Year 2020: {'Treatment': 0, 'Newcomers to the municipality': nan, 'Rent price': nan, 'Populality': 688}\n",
      "  Year 2021: {'Treatment': 0, 'Newcomers to the municipality': nan, 'Rent price': nan, 'Populality': 667}\n",
      "Data for arakawa:\n",
      "  Year 2008: {'Treatment': 0, 'Newcomers to the municipality': 12432.0, 'Rent price': 466000.0, 'Populality': 213}\n",
      "  Year 2009: {'Treatment': 0, 'Newcomers to the municipality': 12632.0, 'Rent price': 435000.0, 'Populality': 186}\n",
      "  Year 2010: {'Treatment': 0, 'Newcomers to the municipality': 12106.0, 'Rent price': 408000.0, 'Populality': 674}\n",
      "  Year 2011: {'Treatment': 0, 'Newcomers to the municipality': 11738.0, 'Rent price': 491700.0, 'Populality': 481}\n",
      "  Year 2012: {'Treatment': 0, 'Newcomers to the municipality': 11788.0, 'Rent price': 486000.0, 'Populality': 338}\n",
      "  Year 2013: {'Treatment': 0, 'Newcomers to the municipality': 11460.0, 'Rent price': 369400.0, 'Populality': 331}\n",
      "  Year 2014: {'Treatment': 0, 'Newcomers to the municipality': 11367.0, 'Rent price': nan, 'Populality': 312}\n",
      "  Year 2015: {'Treatment': 0, 'Newcomers to the municipality': 12513.0, 'Rent price': nan, 'Populality': 286}\n",
      "  Year 2016: {'Treatment': 0, 'Newcomers to the municipality': 11571.0, 'Rent price': 385800.0, 'Populality': 257}\n",
      "  Year 2017: {'Treatment': 0, 'Newcomers to the municipality': 12061.0, 'Rent price': nan, 'Populality': 226}\n",
      "  Year 2018: {'Treatment': 0, 'Newcomers to the municipality': 12403.0, 'Rent price': 429600.0, 'Populality': 191}\n",
      "  Year 2019: {'Treatment': 0, 'Newcomers to the municipality': nan, 'Rent price': nan, 'Populality': 170}\n",
      "  Year 2020: {'Treatment': 0, 'Newcomers to the municipality': nan, 'Rent price': nan, 'Populality': 170}\n",
      "  Year 2021: {'Treatment': 0, 'Newcomers to the municipality': nan, 'Rent price': nan, 'Populality': 166}\n",
      "Data for bunkyo:\n",
      "  Year 2008: {'Treatment': 0, 'Newcomers to the municipality': 15747.0, 'Rent price': 840900.0, 'Populality': 909}\n",
      "  Year 2009: {'Treatment': 0, 'Newcomers to the municipality': 15740.0, 'Rent price': 760700.0, 'Populality': 715}\n",
      "  Year 2010: {'Treatment': 0, 'Newcomers to the municipality': 16761.0, 'Rent price': 695800.0, 'Populality': 677}\n",
      "  Year 2011: {'Treatment': 0, 'Newcomers to the municipality': 16736.0, 'Rent price': 672400.0, 'Populality': 685}\n",
      "  Year 2012: {'Treatment': 0, 'Newcomers to the municipality': 16560.0, 'Rent price': 667700.0, 'Populality': 623}\n",
      "  Year 2013: {'Treatment': 0, 'Newcomers to the municipality': 17586.0, 'Rent price': 712600.0, 'Populality': 613}\n",
      "  Year 2014: {'Treatment': 0, 'Newcomers to the municipality': 17088.0, 'Rent price': nan, 'Populality': 644}\n",
      "  Year 2015: {'Treatment': 0, 'Newcomers to the municipality': 17180.0, 'Rent price': nan, 'Populality': 629}\n",
      "  Year 2016: {'Treatment': 0, 'Newcomers to the municipality': 17011.0, 'Rent price': 788800.0, 'Populality': 706}\n",
      "  Year 2017: {'Treatment': 0, 'Newcomers to the municipality': 16980.0, 'Rent price': nan, 'Populality': 776}\n",
      "  Year 2018: {'Treatment': 0, 'Newcomers to the municipality': 17589.0, 'Rent price': 867500.0, 'Populality': 711}\n",
      "  Year 2019: {'Treatment': 0, 'Newcomers to the municipality': nan, 'Rent price': nan, 'Populality': 790}\n",
      "  Year 2020: {'Treatment': 0, 'Newcomers to the municipality': nan, 'Rent price': nan, 'Populality': 561}\n",
      "  Year 2021: {'Treatment': 0, 'Newcomers to the municipality': nan, 'Rent price': nan, 'Populality': 532}\n",
      "Data for chiyoda:\n",
      "  Year 2008: {'Treatment': 1, 'Newcomers to the municipality': 5434.0, 'Rent price': 2123000.0, 'Populality': 972}\n",
      "  Year 2009: {'Treatment': 1, 'Newcomers to the municipality': 6046.0, 'Rent price': 2041000.0, 'Populality': 933}\n",
      "  Year 2010: {'Treatment': 1, 'Newcomers to the municipality': 5676.0, 'Rent price': 1860000.0, 'Populality': 1015}\n",
      "  Year 2011: {'Treatment': 1, 'Newcomers to the municipality': 5757.0, 'Rent price': 1930000.0, 'Populality': 913}\n",
      "  Year 2012: {'Treatment': 1, 'Newcomers to the municipality': 6103.0, 'Rent price': 1908600.0, 'Populality': 848}\n",
      "  Year 2013: {'Treatment': 1, 'Newcomers to the municipality': 7072.0, 'Rent price': 1908600.0, 'Populality': 897}\n",
      "  Year 2014: {'Treatment': 1, 'Newcomers to the municipality': 7406.0, 'Rent price': nan, 'Populality': 942}\n",
      "  Year 2015: {'Treatment': 1, 'Newcomers to the municipality': 6722.0, 'Rent price': nan, 'Populality': 994}\n",
      "  Year 2016: {'Treatment': 1, 'Newcomers to the municipality': 6383.0, 'Rent price': 2358600.0, 'Populality': 1134}\n",
      "  Year 2017: {'Treatment': 1, 'Newcomers to the municipality': 6764.0, 'Rent price': nan, 'Populality': 986}\n",
      "  Year 2018: {'Treatment': 1, 'Newcomers to the municipality': 7493.0, 'Rent price': 2618600.0, 'Populality': 934}\n",
      "  Year 2019: {'Treatment': 1, 'Newcomers to the municipality': nan, 'Rent price': nan, 'Populality': 1016}\n",
      "  Year 2020: {'Treatment': 1, 'Newcomers to the municipality': nan, 'Rent price': nan, 'Populality': 632}\n",
      "  Year 2021: {'Treatment': 1, 'Newcomers to the municipality': nan, 'Rent price': nan, 'Populality': 591}\n",
      "Data for chohu:\n",
      "  Year 2008: {'Treatment': 1, 'Newcomers to the municipality': 15452.0, 'Rent price': 352000.0, 'Populality': 70}\n",
      "  Year 2009: {'Treatment': 1, 'Newcomers to the municipality': 14991.0, 'Rent price': 326200.0, 'Populality': 100}\n",
      "  Year 2010: {'Treatment': 1, 'Newcomers to the municipality': 13981.0, 'Rent price': 308700.0, 'Populality': 0}\n",
      "  Year 2011: {'Treatment': 1, 'Newcomers to the municipality': 14218.0, 'Rent price': 306300.0, 'Populality': 94}\n",
      "  Year 2012: {'Treatment': 1, 'Newcomers to the municipality': 14433.0, 'Rent price': 304200.0, 'Populality': 0}\n",
      "  Year 2013: {'Treatment': 1, 'Newcomers to the municipality': 13781.0, 'Rent price': 305900.0, 'Populality': 0}\n",
      "  Year 2014: {'Treatment': 1, 'Newcomers to the municipality': 13233.0, 'Rent price': nan, 'Populality': 44}\n",
      "  Year 2015: {'Treatment': 1, 'Newcomers to the municipality': 15055.0, 'Rent price': nan, 'Populality': 37}\n",
      "  Year 2016: {'Treatment': 1, 'Newcomers to the municipality': 15055.0, 'Rent price': 318800.0, 'Populality': 129}\n",
      "  Year 2017: {'Treatment': 1, 'Newcomers to the municipality': 14390.0, 'Rent price': nan, 'Populality': 53}\n",
      "  Year 2018: {'Treatment': 1, 'Newcomers to the municipality': 14469.0, 'Rent price': 325900.0, 'Populality': 83}\n",
      "  Year 2019: {'Treatment': 1, 'Newcomers to the municipality': nan, 'Rent price': nan, 'Populality': 47}\n",
      "  Year 2020: {'Treatment': 1, 'Newcomers to the municipality': nan, 'Rent price': nan, 'Populality': 0}\n",
      "  Year 2021: {'Treatment': 1, 'Newcomers to the municipality': nan, 'Rent price': nan, 'Populality': 48}\n",
      "<class 'dict'>\n"
     ]
    }
   ],
   "source": [
    "# Create a nested dictionary based on municipality and year\n",
    "municipality_data = {}\n",
    "\n",
    "# Populate the dictionary\n",
    "for index, row in df.iterrows():\n",
    "    municipality = row['municipality']\n",
    "    year = row['year']\n",
    "    \n",
    "    if municipality not in municipality_data:\n",
    "        municipality_data[municipality] = {}\n",
    "    \n",
    "    municipality_data[municipality][year] = {\n",
    "        \"Treatment\": row['treat'],\n",
    "        \"Newcomers to the municipality\": row['newcomers'],\n",
    "        \"Rent price\": row['rents'],\n",
    "        \"Populality\": row['popu']\n",
    "    }\n",
    "\n",
    "# Display the dictionary (only for first 5 municipalities)\n",
    "municipality_count = 0\n",
    "for municipality, years in municipality_data.items():\n",
    "    if municipality_count >= 5:\n",
    "        break \n",
    "    print(f\"Data for {municipality}:\")\n",
    "    for year, info in years.items():\n",
    "        print(f\"  Year {year}: {info}\")\n",
    "    municipality_count += 1 \n",
    "\n",
    "print(type(municipality_data)) #Show that this is a dictionary"
   ]
  },
  {
   "cell_type": "code",
   "execution_count": 27,
   "id": "9e758952-2198-48c0-a3b4-e07da3678cd5",
   "metadata": {},
   "outputs": [
    {
     "name": "stdout",
     "output_type": "stream",
     "text": [
      "adachi\n",
      "arakawa\n",
      "bunkyo\n",
      "chiyoda\n",
      "chohu\n",
      "chuo\n",
      "edogawa\n",
      "funabashi\n",
      "ichikawa\n",
      "itabashi\n",
      "katsushika\n",
      "kawaguchi\n",
      "kawasaki\n",
      "kita\n",
      "komae\n",
      "koto\n",
      "matsudo\n",
      "meguro\n",
      "minato\n",
      "misato\n",
      "mitaka\n",
      "musashino\n",
      "nakano\n",
      "narashino\n",
      "nerima\n",
      "ota\n",
      "setagaya\n",
      "shibuya\n",
      "shinagawa\n",
      "shinjuku\n",
      "soka\n",
      "suginami\n",
      "sumida\n",
      "taito\n",
      "toda\n",
      "toshima\n",
      "urayasu\n",
      "wako\n",
      "yashio\n",
      "yokohama\n"
     ]
    }
   ],
   "source": [
    "# Dictionary 2\n",
    "for municipality in municipality_data.keys():\n",
    "    print(municipality)"
   ]
  },
  {
   "cell_type": "code",
   "execution_count": 130,
   "id": "63a9a2a5-24f7-4c71-8d04-4cec3d3c900f",
   "metadata": {},
   "outputs": [
    {
     "name": "stdout",
     "output_type": "stream",
     "text": [
      "Notebook moved to ../scripts_stata_python/Question3_list_dictionary.ipynb\n"
     ]
    }
   ],
   "source": [
    "# Perform operation in files in different folders - save this notebook into script folder\n",
    "main_folder = 'coe_final_assignment'\n",
    "target_folder = os.path.join(\"..\", 'scripts_stata_python')\n",
    "current_notebook_path = os.path.abspath(\"Question3_list_dictionary.ipynb\")\n",
    "target_notebook_path = os.path.join(target_folder, os.path.basename(current_notebook_path))\n",
    "shutil.move(current_notebook_path, target_notebook_path)\n",
    "print(f\"Notebook moved to {target_notebook_path}\")"
   ]
  }
 ],
 "metadata": {
  "kernelspec": {
   "display_name": "Python 3 (ipykernel)",
   "language": "python",
   "name": "python3"
  },
  "language_info": {
   "codemirror_mode": {
    "name": "ipython",
    "version": 3
   },
   "file_extension": ".py",
   "mimetype": "text/x-python",
   "name": "python",
   "nbconvert_exporter": "python",
   "pygments_lexer": "ipython3",
   "version": "3.12.4"
  }
 },
 "nbformat": 4,
 "nbformat_minor": 5
}
