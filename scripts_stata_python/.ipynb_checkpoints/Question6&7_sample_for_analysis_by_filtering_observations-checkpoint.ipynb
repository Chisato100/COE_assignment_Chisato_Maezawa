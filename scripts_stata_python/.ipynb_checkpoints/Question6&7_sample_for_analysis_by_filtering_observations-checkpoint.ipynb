{
 "cells": [
  {
   "cell_type": "code",
   "execution_count": 1,
   "id": "8674f305-d941-409d-ae02-16b67bf57b53",
   "metadata": {},
   "outputs": [],
   "source": [
    "import os\n",
    "import shutil\n",
    "import pandas as pd\n",
    "import matplotlib.pyplot as plt"
   ]
  },
  {
   "cell_type": "code",
   "execution_count": 11,
   "id": "aea5fca7-6ae2-4d0b-b461-a53b38a4aa18",
   "metadata": {},
   "outputs": [
    {
     "name": "stdout",
     "output_type": "stream",
     "text": [
      "  municipality  year  treat  newcomers     rents  popu\n",
      "0       adachi  2008      0    28533.0  281500.0   484\n",
      "1       adachi  2009      0    31389.0  275200.0   528\n",
      "2       adachi  2010      0    27831.0  263500.0   459\n",
      "3       adachi  2011      0    27978.0  262100.0   447\n",
      "4       adachi  2012      0    27850.0  262800.0   423\n"
     ]
    }
   ],
   "source": [
    "# Import data\n",
    "data_path = os.path.join(\"..\", 'data', 'data_withoutMissingValues.csv')\n",
    "df = pd.read_csv(data_path)\n",
    "print(df.head())"
   ]
  },
  {
   "cell_type": "code",
   "execution_count": 13,
   "id": "7802cb3c-3c41-4d08-b8cc-cfb0a657181a",
   "metadata": {},
   "outputs": [
    {
     "name": "stdout",
     "output_type": "stream",
     "text": [
      "    municipality  year  treat  newcomers      rents  popu\n",
      "378      shibuya  2008      1    18507.0  1191300.0   469\n",
      "379      shibuya  2009      1    19661.0  1042300.0   472\n",
      "380      shibuya  2010      1    19652.0   949000.0   457\n",
      "381      shibuya  2011      1    20709.0   980600.0   421\n",
      "382      shibuya  2012      1    20881.0   964200.0   374\n",
      "  municipality  year  treat  newcomers         rents  popu\n",
      "2       adachi  2010      0    27831.0  263500.00000   459\n",
      "3       adachi  2011      0    27978.0  262100.00000   447\n",
      "4       adachi  2012      0    27850.0  262800.00000   423\n",
      "5       adachi  2013      0    27124.0  254800.00000   436\n",
      "6       adachi  2014      0    28002.0  482600.45045   500\n",
      "  municipality  year  newcomers\n",
      "0       adachi  2008    28533.0\n",
      "1       adachi  2009    31389.0\n",
      "2       adachi  2010    27831.0\n",
      "3       adachi  2011    27978.0\n",
      "4       adachi  2012    27850.0\n",
      "    municipality  year  treat  newcomers      rents  popu  rents_per_capita\n",
      "378      shibuya  2008      1    18507.0  1191300.0   469       2540.085288\n",
      "379      shibuya  2009      1    19661.0  1042300.0   472       2208.262712\n",
      "380      shibuya  2010      1    19652.0   949000.0   457       2076.586433\n",
      "381      shibuya  2011      1    20709.0   980600.0   421       2329.216152\n",
      "382      shibuya  2012      1    20881.0   964200.0   374       2578.074866\n"
     ]
    },
    {
     "name": "stderr",
     "output_type": "stream",
     "text": [
      "/var/folders/97/4qvq0h9x70jcn61n8hff6gtc0000gn/T/ipykernel_8920/2131762619.py:13: SettingWithCopyWarning: \n",
      "A value is trying to be set on a copy of a slice from a DataFrame.\n",
      "Try using .loc[row_indexer,col_indexer] = value instead\n",
      "\n",
      "See the caveats in the documentation: https://pandas.pydata.org/pandas-docs/stable/user_guide/indexing.html#returning-a-view-versus-a-copy\n",
      "  df_filtered1['rents_per_capita'] = df_filtered1['rents'] / df_filtered1['popu']\n"
     ]
    }
   ],
   "source": [
    "# Filter observations - keep only shibuya\n",
    "df_filtered1 = df[df['municipality'] == \"shibuya\"]\n",
    "print(df_filtered1.head())\n",
    "# Filter observations - keep only data after 2010\n",
    "df_filtered2 = df[df['year'] >=2010]\n",
    "print(df_filtered2.head())\n",
    "\n",
    "# Filter variables\n",
    "df_filtered3 = df[['municipality', 'year', 'newcomers']]\n",
    "print(df_filtered3.head())\n",
    "\n",
    "# Transform variables - create a new column with new values\n",
    "df_filtered1['rents_per_capita'] = df_filtered1['rents'] / df_filtered1['popu']\n",
    "print(df_filtered1.head())\n"
   ]
  },
  {
   "cell_type": "code",
   "execution_count": 17,
   "id": "0db77459-a4eb-4fe2-88a9-9158473fc347",
   "metadata": {},
   "outputs": [
    {
     "name": "stdout",
     "output_type": "stream",
     "text": [
      "Notebook moved to ../scripts_stata_python/Question6_sample_for_analysis_by_filtering_observations.ipynb\n"
     ]
    }
   ],
   "source": [
    "# Perform operation in files in different folders - save this notebook into script folder\n",
    "main_folder = 'coe_final_assignment'\n",
    "target_folder = os.path.join(\"..\", 'scripts_stata_python')\n",
    "current_notebook_path = os.path.abspath(\"Question6_sample_for_analysis_by_filtering_observations.ipynb\")\n",
    "target_notebook_path = os.path.join(target_folder, os.path.basename(current_notebook_path))\n",
    "shutil.move(current_notebook_path, target_notebook_path)\n",
    "print(f\"Notebook moved to {target_notebook_path}\")"
   ]
  }
 ],
 "metadata": {
  "kernelspec": {
   "display_name": "Python 3 (ipykernel)",
   "language": "python",
   "name": "python3"
  },
  "language_info": {
   "codemirror_mode": {
    "name": "ipython",
    "version": 3
   },
   "file_extension": ".py",
   "mimetype": "text/x-python",
   "name": "python",
   "nbconvert_exporter": "python",
   "pygments_lexer": "ipython3",
   "version": "3.12.4"
  }
 },
 "nbformat": 4,
 "nbformat_minor": 5
}
