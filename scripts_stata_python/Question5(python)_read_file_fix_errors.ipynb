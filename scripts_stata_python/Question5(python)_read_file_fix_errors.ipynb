{
 "cells": [
  {
   "cell_type": "code",
   "execution_count": 65,
   "id": "a400b964-8e8b-40db-8234-f6a13685ba0a",
   "metadata": {},
   "outputs": [],
   "source": [
    "import os\n",
    "import pandas as pd\n",
    "import shutil\n"
   ]
  },
  {
   "cell_type": "code",
   "execution_count": 53,
   "id": "5071ff66-6a61-4941-aae1-4736e74a0161",
   "metadata": {},
   "outputs": [
    {
     "name": "stdout",
     "output_type": "stream",
     "text": [
      "  municipality  year  treat  newcomers     rents  popu  year_2013  year_2016  \\\n",
      "0       adachi  2008      0    28533.0  281500.0   484        NaN        NaN   \n",
      "1       adachi  2009      0    31389.0  275200.0   528        NaN        NaN   \n",
      "2       adachi  2010      0    27831.0  263500.0   459        NaN        NaN   \n",
      "3       adachi  2011      0    27978.0  262100.0   447        NaN        NaN   \n",
      "4       adachi  2012      0    27850.0  262800.0   423        NaN        NaN   \n",
      "\n",
      "   year_2018  \n",
      "0        NaN  \n",
      "1        NaN  \n",
      "2        NaN  \n",
      "3        NaN  \n",
      "4        NaN  \n"
     ]
    }
   ],
   "source": [
    "# Import data\n",
    "data_path = os.path.join(\"..\", 'data', 'Data_popularity_google.csv')\n",
    "df = pd.read_csv(data_path)\n",
    "print(df.head())"
   ]
  },
  {
   "cell_type": "code",
   "execution_count": 55,
   "id": "5be9da97-cc70-4f8b-85d2-29498eee1698",
   "metadata": {},
   "outputs": [
    {
     "name": "stdout",
     "output_type": "stream",
     "text": [
      "municipality     object\n",
      "year              int64\n",
      "treat             int64\n",
      "newcomers       float64\n",
      "rents           float64\n",
      "popu              int64\n",
      "year_2013       float64\n",
      "year_2016       float64\n",
      "year_2018       float64\n",
      "dtype: object\n"
     ]
    }
   ],
   "source": [
    "# First check data types of each column\n",
    "print(df.dtypes)"
   ]
  },
  {
   "cell_type": "code",
   "execution_count": 57,
   "id": "bc84d2d3-79a7-4153-be14-a5fa39eb4537",
   "metadata": {},
   "outputs": [
    {
     "name": "stdout",
     "output_type": "stream",
     "text": [
      "municipality      0\n",
      "year              0\n",
      "treat             0\n",
      "newcomers       120\n",
      "rents           263\n",
      "popu              0\n",
      "year_2013       557\n",
      "year_2016       560\n",
      "year_2018       560\n",
      "dtype: int64\n"
     ]
    }
   ],
   "source": [
    "#Fix common data quality errors (for example, string vs number, missing value)\n",
    "# Check missing values\n",
    "missing_values = df.isnull().sum()\n",
    "print(missing_values)"
   ]
  },
  {
   "cell_type": "code",
   "execution_count": 59,
   "id": "f8688d89-1ef6-42bd-b226-2a4fa19bd4bc",
   "metadata": {},
   "outputs": [
    {
     "name": "stdout",
     "output_type": "stream",
     "text": [
      "  municipality  year  treat  newcomers     rents  popu\n",
      "0       adachi  2008      0    28533.0  281500.0   484\n",
      "1       adachi  2009      0    31389.0  275200.0   528\n",
      "2       adachi  2010      0    27831.0  263500.0   459\n",
      "3       adachi  2011      0    27978.0  262100.0   447\n",
      "4       adachi  2012      0    27850.0  262800.0   423\n"
     ]
    }
   ],
   "source": [
    "# Handle missing values \n",
    "# First, remove year_2013 and year_2016 columns because these have too many missing values\n",
    "df.drop(['year_2013', 'year_2016','year_2018'], axis=1, inplace=True)\n",
    "print(df.head())"
   ]
  },
  {
   "cell_type": "code",
   "execution_count": 61,
   "id": "748ca7ea-56e8-4a94-aa91-a50f0eba8017",
   "metadata": {},
   "outputs": [
    {
     "name": "stdout",
     "output_type": "stream",
     "text": [
      "municipality    0\n",
      "year            0\n",
      "treat           0\n",
      "newcomers       0\n",
      "rents           0\n",
      "popu            0\n",
      "dtype: int64\n",
      "  municipality  year  treat  newcomers     rents  popu\n",
      "0       adachi  2008      0    28533.0  281500.0   484\n",
      "1       adachi  2009      0    31389.0  275200.0   528\n",
      "2       adachi  2010      0    27831.0  263500.0   459\n",
      "3       adachi  2011      0    27978.0  262100.0   447\n",
      "4       adachi  2012      0    27850.0  262800.0   423\n"
     ]
    },
    {
     "name": "stderr",
     "output_type": "stream",
     "text": [
      "/var/folders/97/4qvq0h9x70jcn61n8hff6gtc0000gn/T/ipykernel_6981/1254655557.py:18: FutureWarning: A value is trying to be set on a copy of a DataFrame or Series through chained assignment using an inplace method.\n",
      "The behavior will change in pandas 3.0. This inplace method will never work because the intermediate object on which we are setting values always behaves as a copy.\n",
      "\n",
      "For example, when doing 'df[col].method(value, inplace=True)', try using 'df.method({col: value}, inplace=True)' or df[col] = df[col].method(value) instead, to perform the operation inplace on the original object.\n",
      "\n",
      "\n",
      "  df['newcomers'].fillna(df['newcomers'].mean(), inplace=True)\n",
      "/var/folders/97/4qvq0h9x70jcn61n8hff6gtc0000gn/T/ipykernel_6981/1254655557.py:19: FutureWarning: A value is trying to be set on a copy of a DataFrame or Series through chained assignment using an inplace method.\n",
      "The behavior will change in pandas 3.0. This inplace method will never work because the intermediate object on which we are setting values always behaves as a copy.\n",
      "\n",
      "For example, when doing 'df[col].method(value, inplace=True)', try using 'df.method({col: value}, inplace=True)' or df[col] = df[col].method(value) instead, to perform the operation inplace on the original object.\n",
      "\n",
      "\n",
      "  df['rents'].fillna(df['rents'].mean(), inplace=True)\n"
     ]
    }
   ],
   "source": [
    "# Fill missing values in 'newcomers' and 'rents' with the average of immediate above and below values\n",
    "def fill_missing_with_avg(df, column):\n",
    "    for i in range(len(df)):\n",
    "        if pd.isna(df.loc[i, column]):\n",
    "            above = df.loc[i - 1, column] if i - 1 >= 0 else None\n",
    "            below = df.loc[i + 1, column] if i + 1 < len(df) else None\n",
    "            \n",
    "            if above is not None and below is not None:\n",
    "                df.loc[i, column] = (above + below) / 2\n",
    "            elif above is not None:  # If only above is available, use it\n",
    "                df.loc[i, column] = above\n",
    "            elif below is not None:  # If only below is available, use it\n",
    "                df.loc[i, column] = below\n",
    "\n",
    "fill_missing_with_avg(df, 'newcomers')\n",
    "fill_missing_with_avg(df, 'rents')\n",
    "\n",
    "df['newcomers'].fillna(df['newcomers'].mean(), inplace=True)\n",
    "df['rents'].fillna(df['rents'].mean(), inplace=True)\n",
    "\n",
    "print(df.isnull().sum())\n",
    "print(df.head())"
   ]
  },
  {
   "cell_type": "code",
   "execution_count": 71,
   "id": "b8be3229-82e9-4543-966e-4b9cd8095e88",
   "metadata": {},
   "outputs": [],
   "source": [
    "# Save this dataset\n",
    "data_folder_path = os.path.join(\"..\", 'data', 'data_withoutMissingValues.csv')\n",
    "df.to_csv(data_folder_path, index=False)"
   ]
  },
  {
   "cell_type": "code",
   "execution_count": 77,
   "id": "7e04e6ef-0e93-433f-89b3-c2e9a6f49533",
   "metadata": {},
   "outputs": [
    {
     "name": "stdout",
     "output_type": "stream",
     "text": [
      "Notebook moved to ../scripts_stata_python/Question5(python)_read_file_fix_errors.ipynb\n"
     ]
    }
   ],
   "source": [
    "# Perform operation in files in different folders - save this notebook into script folder\n",
    "main_folder = 'coe_final_assignment'\n",
    "target_folder = os.path.join(\"..\", 'scripts_stata_python')\n",
    "current_notebook_path = os.path.abspath(\"Question5(python)_read_file_fix_errors.ipynb\")\n",
    "target_notebook_path = os.path.join(target_folder, os.path.basename(current_notebook_path))\n",
    "shutil.move(current_notebook_path, target_notebook_path)\n",
    "print(f\"Notebook moved to {target_notebook_path}\")"
   ]
  }
 ],
 "metadata": {
  "kernelspec": {
   "display_name": "Python 3 (ipykernel)",
   "language": "python",
   "name": "python3"
  },
  "language_info": {
   "codemirror_mode": {
    "name": "ipython",
    "version": 3
   },
   "file_extension": ".py",
   "mimetype": "text/x-python",
   "name": "python",
   "nbconvert_exporter": "python",
   "pygments_lexer": "ipython3",
   "version": "3.12.4"
  }
 },
 "nbformat": 4,
 "nbformat_minor": 5
}
